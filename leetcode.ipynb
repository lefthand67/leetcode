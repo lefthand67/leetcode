{
 "cells": [
  {
   "cell_type": "code",
   "execution_count": 1,
   "id": "28354056-3ae0-43b9-80e7-0acfd01b3cfc",
   "metadata": {
    "tags": []
   },
   "outputs": [
    {
     "name": "stdout",
     "output_type": "stream",
     "text": [
      "Python: 3.11.2\n"
     ]
    }
   ],
   "source": [
    "import platform\n",
    "\n",
    "print('Python:', platform.python_version())"
   ]
  },
  {
   "cell_type": "code",
   "execution_count": 2,
   "id": "8938329b-0111-4096-9495-4c5c9872689b",
   "metadata": {
    "tags": []
   },
   "outputs": [
    {
     "name": "stdout",
     "output_type": "stream",
     "text": [
      "gcc (Debian 12.2.0-14) 12.2.0\n",
      "Copyright (C) 2022 Free Software Foundation, Inc.\n",
      "This is free software; see the source for copying conditions.  There is NO\n",
      "warranty; not even for MERCHANTABILITY or FITNESS FOR A PARTICULAR PURPOSE.\n",
      "\n"
     ]
    }
   ],
   "source": [
    "gcc --version"
   ]
  },
  {
   "cell_type": "markdown",
   "id": "8dbc9cb9-46a7-4bac-8a61-d0862e057922",
   "metadata": {},
   "source": [
    "# Easy"
   ]
  },
  {
   "cell_type": "markdown",
   "id": "126d5e6c-d4d1-4cfb-99a8-c251ab210189",
   "metadata": {},
   "source": [
    "## 977. Squares of a Sorted Array"
   ]
  },
  {
   "cell_type": "markdown",
   "id": "677b28f0-de2a-4796-958f-6e2b969c576c",
   "metadata": {},
   "source": [
    "Given an integer array nums sorted in non-decreasing order, return an array of the squares of each number sorted in non-decreasing order.\n",
    "\n",
    "**Constraints:**\n",
    "```\n",
    "1 <= nums.length <= 104\n",
    "-104 <= nums[i] <= 104\n",
    "nums is sorted in non-decreasing order.\n",
    "```\n",
    "\n",
    "**Follow up:** Squaring each element and sorting the new array is very trivial, could you find an `O(n)` solution using a different approach?"
   ]
  },
  {
   "cell_type": "markdown",
   "id": "121d7751-5985-45f3-b94e-b29b3fbcdf77",
   "metadata": {},
   "source": [
    "```python\n",
    "Example 1:\n",
    "Input: nums = [-4,-1,0,3,10]\n",
    "Output: [0,1,9,16,100]\n",
    "Explanation: After squaring, the array becomes [16,1,0,9,100].\n",
    "After sorting, it becomes [0,1,9,16,100].\n",
    "\n",
    "Example 2:\n",
    "Input: nums = [-7,-3,2,3,11]\n",
    "Output: [4,9,9,49,121]\n",
    "```"
   ]
  },
  {
   "cell_type": "code",
   "execution_count": 1,
   "id": "ad9dfb8d-1b3a-42ad-8e0c-728edce1f712",
   "metadata": {
    "execution": {
     "iopub.execute_input": "2023-06-21T21:34:47.575017Z",
     "iopub.status.busy": "2023-06-21T21:34:47.571411Z",
     "iopub.status.idle": "2023-06-21T21:34:47.590687Z",
     "shell.execute_reply": "2023-06-21T21:34:47.589363Z",
     "shell.execute_reply.started": "2023-06-21T21:34:47.574969Z"
    },
    "tags": []
   },
   "outputs": [],
   "source": [
    "def sortedSquares(nums: list[int]) -> list[int]:\n",
    "    lst = [None] * len(nums)\n",
    "    left, right = 0, len(nums) - 1\n",
    "    for i in range(len(nums)-1, -1, -1):\n",
    "        if abs(nums[left]) > abs(nums[right]):\n",
    "            lst[i] = nums[left] ** 2\n",
    "            left += 1\n",
    "        else:\n",
    "            lst[i] = nums[right] ** 2\n",
    "            right -= 1\n",
    "    return lst"
   ]
  },
  {
   "cell_type": "code",
   "execution_count": 2,
   "id": "90f14a45-92cb-4c56-b4b2-f23599a4449d",
   "metadata": {
    "execution": {
     "iopub.execute_input": "2023-06-21T21:34:48.874904Z",
     "iopub.status.busy": "2023-06-21T21:34:48.872612Z",
     "iopub.status.idle": "2023-06-21T21:34:48.903629Z",
     "shell.execute_reply": "2023-06-21T21:34:48.900817Z",
     "shell.execute_reply.started": "2023-06-21T21:34:48.874787Z"
    },
    "tags": []
   },
   "outputs": [
    {
     "data": {
      "text/plain": [
       "[4, 9, 9, 49, 121]"
      ]
     },
     "execution_count": 2,
     "metadata": {},
     "output_type": "execute_result"
    }
   ],
   "source": [
    "nums = [-7,-3,2,3,11]\n",
    "sortedSquares(nums)"
   ]
  },
  {
   "cell_type": "code",
   "execution_count": 3,
   "id": "dfcfe016-ff24-48bc-aef8-14abd596f6b9",
   "metadata": {
    "execution": {
     "iopub.execute_input": "2023-06-21T21:34:49.885540Z",
     "iopub.status.busy": "2023-06-21T21:34:49.883592Z",
     "iopub.status.idle": "2023-06-21T21:34:52.274143Z",
     "shell.execute_reply": "2023-06-21T21:34:52.272684Z",
     "shell.execute_reply.started": "2023-06-21T21:34:49.885422Z"
    },
    "tags": []
   },
   "outputs": [
    {
     "name": "stdout",
     "output_type": "stream",
     "text": [
      "2.81 µs ± 143 ns per loop (mean ± std. dev. of 7 runs, 100,000 loops each)\n"
     ]
    }
   ],
   "source": [
    "%timeit sortedSquares(nums)"
   ]
  },
  {
   "cell_type": "markdown",
   "id": "6f79897e-29c4-4d33-af8b-3478bf0ab88e",
   "metadata": {},
   "source": [
    "## 496. Next Greater Element I"
   ]
  },
  {
   "cell_type": "markdown",
   "id": "ed17490b-366d-465a-9261-dbd7d2014acf",
   "metadata": {},
   "source": [
    "The next greater element of some element `x` in an `array` is the first greater element that is to the right of `x` in the same array.\n",
    "\n",
    "You are given two distinct 0-indexed integer arrays `nums1` and `nums2`, where `nums1` is a subset of `nums2`.\n",
    "\n",
    "For each `0 <= i < nums1.length`, find the index `j` such that `nums1[i] == nums2[j]` and determine the next greater element of `nums2[j]` in `nums2`. If there is no next greater element, then the answer for this query is `-1`.\n",
    "\n",
    "Return an array `ans` of length `nums1.length` such that `ans[i]` is the next greater element as described above.\n",
    "\n",
    "**Example 1**:\n",
    "\n",
    "```python\n",
    "Input: nums1 = [4,1,2], nums2 = [1,3,4,2]\n",
    "Output: [-1,3,-1]\n",
    "```\n",
    "Explanation: The next greater element for each value of nums1 is as follows:\n",
    "- 4 is underlined in nums2 = [1,3,4,2]. There is no next greater element, so the answer is -1.\n",
    "- 1 is underlined in nums2 = [1,3,4,2]. The next greater element is 3.\n",
    "- 2 is underlined in nums2 = [1,3,4,2]. There is no next greater element, so the answer is -1.\n",
    "\n",
    "**Example 2**:\n",
    "```python\n",
    "Input: nums1 = [2,4], nums2 = [1,2,3,4]\n",
    "Output: [3,-1]\n",
    "```\n",
    "Explanation: The next greater element for each value of nums1 is as follows:\n",
    "- 2 is underlined in nums2 = [1,2,3,4]. The next greater element is 3.\n",
    "- 4 is underlined in nums2 = [1,2,3,4]. There is no next greater element, so the answer is -1.\n",
    "\n",
    "**Constraints**:\n",
    "\n",
    "- 1 <= nums1.length <= nums2.length <= 1000\n",
    "- 0 <= nums1[i], nums2[i] <= 104\n",
    "- All integers in nums1 and nums2 are unique.\n",
    "- All the integers of nums1 also appear in nums2.\n",
    " \n",
    "\n",
    "**Follow up**: Could you find an `O(nums1.length + nums2.length)` solution?"
   ]
  },
  {
   "cell_type": "code",
   "execution_count": 7,
   "id": "cf8d8aa6-5a2d-42b8-a442-46541e364eab",
   "metadata": {
    "execution": {
     "iopub.execute_input": "2023-04-11T07:35:34.655277Z",
     "iopub.status.busy": "2023-04-11T07:35:34.654277Z",
     "iopub.status.idle": "2023-04-11T07:35:39.853916Z",
     "shell.execute_reply": "2023-04-11T07:35:39.849921Z",
     "shell.execute_reply.started": "2023-04-11T07:35:34.655277Z"
    },
    "tags": []
   },
   "outputs": [
    {
     "name": "stdout",
     "output_type": "stream",
     "text": [
      "6.09 µs ± 1.22 µs per loop (mean ± std. dev. of 7 runs, 100,000 loops each)\n"
     ]
    }
   ],
   "source": [
    "# my solution\n",
    "nums1 = [1,3,5,2,4]\n",
    "nums2 = [6,5,4,3,2,1,7]\n",
    "\n",
    "class Solution:\n",
    "    def nextGreaterElement(self, nums1: [int], nums2: [int]) -> [int]:\n",
    "        ans = [] * len(nums1)\n",
    "        for i in range(len(nums1)):\n",
    "            idx = nums2.index(nums1[i])\n",
    "            val = -1\n",
    "            for j in range(idx+1, len(nums2)):\n",
    "                if nums2[idx] < nums2[j]:\n",
    "                    val = nums2[j]\n",
    "                    break\n",
    "            ans.append(val)\n",
    "        return ans\n",
    "    \n",
    "%timeit Solution().nextGreaterElement(nums1, nums2)"
   ]
  },
  {
   "cell_type": "code",
   "execution_count": 8,
   "id": "4e807f8e-8a77-4e2c-b446-8ec730c568e0",
   "metadata": {
    "execution": {
     "iopub.execute_input": "2023-04-11T07:36:32.378327Z",
     "iopub.status.busy": "2023-04-11T07:36:32.377327Z",
     "iopub.status.idle": "2023-04-11T07:36:35.953631Z",
     "shell.execute_reply": "2023-04-11T07:36:35.951633Z",
     "shell.execute_reply.started": "2023-04-11T07:36:32.378327Z"
    },
    "tags": []
   },
   "outputs": [
    {
     "name": "stdout",
     "output_type": "stream",
     "text": [
      "3.92 µs ± 528 ns per loop (mean ± std. dev. of 7 runs, 100,000 loops each)\n"
     ]
    }
   ],
   "source": [
    "# not my solution\n",
    "nums1 = [1,3,5,2,4]\n",
    "nums2 = [6,5,4,3,2,1,7]\n",
    "\n",
    "class Solution:\n",
    "    def nextGreaterElement(self, nums1: [int], nums2: [int]) -> [int]:\n",
    "        \n",
    "        next_greater = {}\n",
    "        stack = []\n",
    "        for num in nums2:\n",
    "            while stack and num > stack[-1]:\n",
    "                next_greater[stack.pop()] = num\n",
    "            stack.append(num)\n",
    "        \n",
    "        result = []\n",
    "        for num in nums1:\n",
    "            if num in next_greater:\n",
    "                result.append(next_greater[num])\n",
    "            else:\n",
    "                result.append(-1)\n",
    "        \n",
    "        return result\n",
    "\n",
    "%timeit Solution().nextGreaterElement(nums1, nums2)"
   ]
  },
  {
   "cell_type": "markdown",
   "id": "b08b3a8d-aa80-4366-a7b2-2f700e729356",
   "metadata": {},
   "source": [
    "# Medium"
   ]
  },
  {
   "cell_type": "markdown",
   "id": "a5e8542c-4fe9-49ac-a261-02d22bd008a9",
   "metadata": {},
   "source": [
    "## 791. Custom Sort String"
   ]
  },
  {
   "cell_type": "markdown",
   "id": "5bb5dd09-1cc0-4d30-ab8f-eb8880904934",
   "metadata": {},
   "source": [
    "You are given two strings order and s. All the characters of order are unique and were sorted in some custom order previously.\n",
    "\n",
    "Permute the characters of s so that they match the order that order was sorted. More specifically, if a character x occurs before a character y in order, then x should occur before y in the permuted string.\n",
    "\n",
    "Return any permutation of s that satisfies this property.\n",
    "\n",
    "Example 1:\n",
    "```\n",
    "Input: order = \"cba\", s = \"abcd\"\n",
    "\n",
    "Output: \"cbad\"\n",
    "```\n",
    "\n",
    "Explanation: \"a\", \"b\", \"c\" appear in order, so the order of \"a\", \"b\", \"c\" should be \"c\", \"b\", and \"a\".\n",
    "\n",
    "Since \"d\" does not appear in order, it can be at any position in the returned string. \"dcba\", \"cdba\", \"cbda\" are also valid outputs.\n",
    "\n",
    "Example 2:\n",
    "```\n",
    "Input: order = \"bcafg\", s = \"abcd\"\n",
    "\n",
    "Output: \"bcad\"\n",
    "```\n",
    "\n",
    "Explanation: The characters \"b\", \"c\", and \"a\" from order dictate the order for the characters in s. The character \"d\" in s does not appear in order, so its position is flexible.\n",
    "\n",
    "Following the order of appearance in order, \"b\", \"c\", and \"a\" from s should be arranged as \"b\", \"c\", \"a\". \"d\" can be placed at any position since it's not in order. The output \"bcad\" correctly follows this rule. Other arrangements like \"bacd\" or \"bcda\" would also be valid, as long as \"b\", \"c\", \"a\" maintain their order.\n",
    "\n",
    "Constraints:\n",
    "\n",
    "- 1 <= `order.length` <= 26\n",
    "- 1 <= `s.length` <= 200\n",
    "- `order` and `s` consist of lowercase English letters.\n",
    "- All the characters of `order` are unique."
   ]
  },
  {
   "cell_type": "markdown",
   "id": "d646fb15-c8bf-467d-a25c-34602efd86bd",
   "metadata": {},
   "source": [
    "### Count frequences"
   ]
  },
  {
   "cell_type": "markdown",
   "id": "a8020ae0-ed25-4f34-a83d-fc8847bf3b93",
   "metadata": {},
   "source": [
    "Runtime 0 ms  \n",
    "Beats 100.00% of users with C\n",
    "\n",
    "Memory 5.21 MB  \n",
    "Beats 87.19% of users with C"
   ]
  },
  {
   "cell_type": "code",
   "execution_count": 4,
   "id": "6617bf22-60dc-44a8-afb2-9b663f5dc9f9",
   "metadata": {
    "tags": []
   },
   "outputs": [
    {
     "name": "stdout",
     "output_type": "stream",
     "text": [
      "pppppppjjjjjjjjjjjrrrrrrrrrrrrttttttttyyyyyyyyyeeeeeemmnnnnnnwxxxxxxxaaaaaiiiiiiqqqqqqqqqbbbbvvvvvvvvvsssssssssddddddduuuuuuuuuuulllllllkkkkkkkkkfzozofoofzzfzchcogcgchzfgoogzcchhhczhgohghhccozfozfccgz\n"
     ]
    }
   ],
   "source": [
    "#include <stdio.h>\n",
    "#include <stdlib.h>\n",
    "#include <string.h>\n",
    "\n",
    "char* customSortString(char* order, char* s);\n",
    "\n",
    "int main(void) {\n",
    "\n",
    "\tchar* order = \"pjrtyemnwxaiqbvsdulk\";\n",
    "\tchar s[] = \"zrgccnfyyztxonuldsfazsukqjvvpeouccdyxvhmijhbyljugtkrvdbtkvqdjlxhoaladunemghrazltcuxbsskrhryhjkruputrerthicczsutgasxqiuppsroojvqgfzqlhqcgnxkcdglprerojjqiqecsyhcqzfzpsjxzkybvjfnownofoykzvpjouitiyvzferkd\";\n",
    "\n",
    "\t//char* order = \"cba\";\n",
    "\t//char s[] = \"abcd\";\n",
    "\n",
    "\t//char* order = \"bcafg\";\n",
    "\t//char s[] = \"abcd\";\n",
    "\n",
    "\t// char* order = \"kqep\";\n",
    "\t// char s[] = \"pekeq\";\n",
    "\n",
    "\tchar* ordered_s;\n",
    "\n",
    "\tordered_s = customSortString(order, s);\n",
    "\tprintf(\"%s\\n\", ordered_s);\n",
    "}\n",
    "\n",
    "char* customSortString(char* order, char* s) {\n",
    "\n",
    "\tint i, j, found;\n",
    "\tint idx_start, idx_end;\n",
    "\n",
    "\tint len_order = strlen(order);\n",
    "\tint len_s = strlen(s);\n",
    "\n",
    "\tchar s_copy[len_s + 1];\n",
    "\tint freq[len_order];\n",
    "\n",
    "\tidx_start = 0;\n",
    "\tidx_end = len_s - 1;\n",
    "\n",
    "\tstrcpy(s_copy, s);\n",
    "\n",
    "\t// count frequencies and add not ordered chars\n",
    "\tfor (i = 0; i < len_s; ++i) {\n",
    "\t\t// count frequencies of order chars\n",
    "\t\tfound = 0;\n",
    "\t\tfor (j = 0; j < len_order; ++j) {\n",
    "\t\t\tif (i == 0) {\n",
    "\t\t\t\t// set 0's to frequencies\n",
    "\t\t\t\tfreq[j] = 0;\n",
    "\t\t\t}\n",
    "\t\t\tif (s_copy[i] == order[j]) {\n",
    "\t\t\t\t++freq[j];\n",
    "\t\t\t\tfound = 1;\n",
    "\t\t\t}\n",
    "\t\t}\n",
    "\n",
    "\t\t// put not order char to the end of ordered array\n",
    "\t\tif (found == 0)\n",
    "\t\t\ts[idx_end--] = s_copy[i];\n",
    "\t}\n",
    "\n",
    "\t// put order chars to the ordered array\n",
    "\tfor (i = 0; i < len_order; ++i)\n",
    "\t\tfor (j = 0; j < freq[i]; ++j) {\n",
    "\t\t\ts[idx_start++] = order[i];\n",
    "\t\t}\n",
    "\n",
    "\treturn s;\n",
    "}"
   ]
  },
  {
   "cell_type": "markdown",
   "id": "9732ce06-4831-4399-aef0-b16641ce36e9",
   "metadata": {},
   "source": [
    "## Classic loops"
   ]
  },
  {
   "cell_type": "markdown",
   "id": "2223629f-9388-4111-96cf-1ec052ca8a9d",
   "metadata": {},
   "source": [
    "Runtime 2 ms  \n",
    "Beats 61.56% of users with C\n",
    "\n",
    "Memory 5.16 MB  \n",
    "Beats 99.13% of users with C"
   ]
  },
  {
   "cell_type": "code",
   "execution_count": 2,
   "id": "2a4960d4-37b2-4f74-a110-8f4135f9d4f0",
   "metadata": {
    "tags": []
   },
   "outputs": [
    {
     "name": "stdout",
     "output_type": "stream",
     "text": [
      "pppppppjjjjjjjjjjjrrrrrrrrrrrrttttttttyyyyyyyyyeeeeeemmnnnnnnwxxxxxxxaaaaaiiiiiiqqqqqqqqqbbbbvvvvvvvvvsssssssssddddddduuuuuuuuuuulllllllkkkkkkkkkzgccfzofzocchhghoghzchhhcczgoogfzhcgcgochczfzzfoofozozf\n"
     ]
    }
   ],
   "source": [
    "#include <stdio.h>\n",
    "#include <stdlib.h>\n",
    "#include <string.h>\n",
    "\n",
    "char* customSortString(char* order, char* s);\n",
    "\n",
    "int main(void) {\n",
    "\n",
    "\tchar* order = \"pjrtyemnwxaiqbvsdulk\";\n",
    "\tchar s[] = \"zrgccnfyyztxonuldsfazsukqjvvpeouccdyxvhmijhbyljugtkrvdbtkvqdjlxhoaladunemghrazltcuxbsskrhryhjkruputrerthicczsutgasxqiuppsroojvqgfzqlhqcgnxkcdglprerojjqiqecsyhcqzfzpsjxzkybvjfnownofoykzvpjouitiyvzferkd\";\n",
    "\tchar* ordered_s;\n",
    "\n",
    "\tordered_s = customSortString(order, s);\n",
    "\tprintf(\"%s\\n\", ordered_s);\n",
    "}\n",
    "\n",
    "char* customSortString(char* order, char* s) {\n",
    "\n",
    "\tint i, j, k, check;\n",
    "\tint order_length = strlen(order);\n",
    "\tint s_length = strlen(s);\n",
    "\tchar tmp[s_length + 1];\n",
    "\n",
    "\tif ((s_length < 1) || (s_length > 200) ||\n",
    "\t\t\t(order_length < 1) || (order_length > 26))\n",
    "\t\treturn NULL;\n",
    "\n",
    "\tstrcpy(tmp, s);\n",
    "\n",
    "\tk = 0;\n",
    "\tfor (i = 0; i < order_length; ++i) {\n",
    "\t\tfor (j = 0; j < s_length; ++j) {\n",
    "\t\t\tif (order[i] == tmp[j]) {\n",
    "\t\t\t\ts[k++] = tmp[j];\n",
    "\t\t\t}\n",
    "\t\t}\n",
    "\t}\n",
    "\n",
    "\tif (order_length < s_length) {\n",
    "\t\tfor (i = 0; i < s_length; ++i) {\n",
    "\t\t\tcheck = 0;\n",
    "\t\t\tfor (j = 0; j < order_length; ++j) {\n",
    "\t\t\t\tif (tmp[i] == order[j]) {\n",
    "\t\t\t\t\tcheck = 1;\n",
    "\t\t\t\t\tbreak;\n",
    "\t\t\t\t}\n",
    "\t\t\t}\n",
    "\t\t\tif (check == 0)\n",
    "\t\t\t\ts[k++] = tmp[i];\n",
    "\t\t}\n",
    "\t}\n",
    "\n",
    "\treturn s;\n",
    "}"
   ]
  },
  {
   "cell_type": "markdown",
   "id": "4da2b6ce-0ab7-42ca-bab9-a8873d2feca3",
   "metadata": {},
   "source": [
    "# Hard"
   ]
  },
  {
   "cell_type": "code",
   "execution_count": null,
   "id": "46c6864a-0fbd-464d-b246-cb2d8ea3f1b0",
   "metadata": {},
   "outputs": [],
   "source": []
  }
 ],
 "metadata": {
  "kernelspec": {
   "display_name": "C",
   "language": "c",
   "name": "c"
  },
  "language_info": {
   "file_extension": ".c",
   "mimetype": "text/plain",
   "name": "c"
  }
 },
 "nbformat": 4,
 "nbformat_minor": 5
}
